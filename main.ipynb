{
 "cells": [
  {
   "cell_type": "code",
   "execution_count": 8,
   "metadata": {},
   "outputs": [],
   "source": [
    "! pip install -q -U langchain_core langchain-google-genai langgraph"
   ]
  },
  {
   "cell_type": "code",
   "execution_count": 9,
   "metadata": {},
   "outputs": [],
   "source": [
    "import os\n",
    "from langchain_google_genai import ChatGoogleGenerativeAI\n",
    "from dotenv import load_dotenv\n",
    "from langgraph.graph import StateGraph,START,END\n",
    "from typing_extensions import TypedDict\n",
    "from langchain_core.prompts import PromptTemplate\n",
    "from langchain_core.messages import HumanMessage\n",
    "from IPython.display import display,Image\n",
    "from langgraph.graph.state import CompiledStateGraph"
   ]
  },
  {
   "cell_type": "code",
   "execution_count": 10,
   "metadata": {},
   "outputs": [],
   "source": [
    "#Loading Environment Variables\n",
    "load_dotenv()\n",
    "\n",
    "# Storing api_key in the variable\n",
    "api_key = os.getenv(\"GEMINI_API_KEY\")\n",
    "\n",
    "# Intializing Model\n",
    "llm : ChatGoogleGenerativeAI = ChatGoogleGenerativeAI(model=\"gemini-1.5-flash\", api_key=api_key)"
   ]
  },
  {
   "cell_type": "code",
   "execution_count": 15,
   "metadata": {},
   "outputs": [],
   "source": [
    "\n",
    "class State (TypedDict):\n",
    "    text:str\n",
    "    classification:str\n",
    "    entities:list[str]\n",
    "    summary:str\n",
    "\n",
    "\n",
    "def classification(state:State):\n",
    "    \"\"\" Classify the text into one of the categories: News, Blog, Research, or Other\"\"\"\n",
    "    \n",
    "    prompt = PromptTemplate(input_variables=[\"text\"],template=\"Classify the following text into one of the categories: News, Blog, Research, or Other and don't describe just give the name.\\n\\nText:{text}\\n\\nCategory:\")\n",
    "    \n",
    "    message = HumanMessage(content=prompt.format(text=state[\"text\"]))\n",
    "    classification_result = llm.invoke([message]).content.strip()\n",
    "    state[\"classification\"] = classification_result\n",
    "    return state\n",
    "\n",
    "def entity_extraction_node(state:State):\n",
    "    \"\"\"Extract all the entities (Person, Organization, Location) from the text\"\"\"\n",
    "    \n",
    "    prompt = PromptTemplate(\n",
    "        #Input Variable is a placeholder here you can pass anything here \n",
    "        input_variables=[\"text\"],\n",
    "        # template is somehow same as a prompt which we give the model\n",
    "        template=\"Extract all the entities (Person, Organization, Location) from the following text. Provide the result as a comma-separated list.\\n\\nText:{text}\\n\\n\")\n",
    "    \n",
    "    message = HumanMessage(content=prompt.format(text=state[\"text\"]))\n",
    "    \n",
    "    entity_extraction_result = llm.invoke([message]).content.strip().split(\",\")\n",
    "    state[\"entities\"] = entity_extraction_result\n",
    "    return state\n",
    "\n",
    "def Summary(state:State):\n",
    "    \"\"\" Summarize the text in one short sentence\"\"\"\n",
    "    prompt = PromptTemplate(\n",
    "        input_variables=[\"text\"],\n",
    "        template=\"Summarize the following text in one short sentence.\\n\\nText:{text}\\n\\nSummary:\")\n",
    "    message = HumanMessage(content=prompt.format(text=state[\"text\"]))\n",
    "    summary_result = llm.invoke([message]).content.strip()\n",
    "    state[\"summary\"] = summary_result\n",
    "    return state\n",
    "    "
   ]
  },
  {
   "cell_type": "code",
   "execution_count": 16,
   "metadata": {},
   "outputs": [],
   "source": [
    "\n",
    "workflow : StateGraph = StateGraph(State)\n",
    "\n",
    "# Adding Nodes\n",
    "workflow.add_node(\"Classification of text\",classification)\n",
    "workflow.add_node(\"Extraction of entities from text\",entity_extraction_node)\n",
    "workflow.add_node(\"Summarization of text\",Summary)\n",
    "\n",
    "# Connecting nodes through edges\n",
    "\n",
    "workflow.set_entry_point(\"Classification of text\")\n",
    "workflow.add_edge(\"Classification of text\",\"Extraction of entities from text\")\n",
    "workflow.add_edge(\"Extraction of entities from text\",\"Summarization of text\")\n",
    "workflow.add_edge(\"Summarization of text\",END)\n",
    "\n",
    "graph : CompiledStateGraph = workflow.compile()\n",
    "\n"
   ]
  },
  {
   "cell_type": "code",
   "execution_count": 17,
   "metadata": {},
   "outputs": [
    {
     "data": {
      "image/jpeg": "[encoded data removed]",
      "text/plain": [
       "<IPython.core.display.Image object>"
      ]
     },
     "metadata": {},
     "output_type": "display_data"
    }
   ],
   "source": [
    "display(Image(graph.get_graph().draw_mermaid_png()))"
   ]
  },
  {
   "cell_type": "code",
   "execution_count": 18,
   "metadata": {},
   "outputs": [
    {
     "name": "stdout",
     "output_type": "stream",
     "text": [
      "Classification : Other\n",
      "\n",
      "Entities : ['LangChain Inc.', ' LangGraph']\n",
      "\n",
      "Summary: LangGraph is a graph-based tool that simplifies building complex workflows and decision trees with features like persistence, token streaming, and integration with LangChain.\n"
     ]
    }
   ],
   "source": [
    "sample_text = \"LangGraph, developed by LangChain Inc., is a tool designed to build workflows and decision trees using a graph-based structure. It allows developers to implement cycles, branching logic, and conditional flows, making it easier to manage complex interactions. LangGraph supports persistence, allowing workflows to save their state for error recovery or human-in-the-loop intervention. While it integrates well with LangChain, it can also function independently. Additionally, it offers features like token streaming, which enables partial results to be streamed in real-time during workflow execution.\"\n",
    "\n",
    "sample_input = {'text':sample_text}\n",
    "result = graph.invoke(sample_input)\n",
    "print(\"Classification :\",result[\"classification\"])\n",
    "print(\"\\nEntities :\",result[\"entities\"])\n",
    "print(\"\\nSummary:\",result[\"summary\"])\n",
    "\n"
   ]
  }
 ],
 "metadata": {
  "kernelspec": {
   "display_name": "streamlit",
   "language": "python",
   "name": "python3"
  },
  "language_info": {
   "codemirror_mode": {
    "name": "ipython",
    "version": 3
   },
   "file_extension": ".py",
   "mimetype": "text/x-python",
   "name": "python",
   "nbconvert_exporter": "python",
   "pygments_lexer": "ipython3",
   "version": "3.11.10"
  }
 },
 "nbformat": 4,
 "nbformat_minor": 2
}
